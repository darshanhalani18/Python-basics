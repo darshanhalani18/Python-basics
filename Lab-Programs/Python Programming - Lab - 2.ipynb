{
 "cells": [
  {
   "cell_type": "markdown",
   "metadata": {},
   "source": [
    "\n",
    "<a href='https://www.darshan.ac.in/'> <img src='https://www.darshan.ac.in/Content/media/DU_Logo.svg' width=\"250\" height=\"300\"/></a>\n",
    "<pre>\n",
    "<center><b><h1>Python Programming - 2301CS404</b></center>\n",
    "<center><b><h1>Lab - 2</b></center>    \n",
    " <center><b><h1>Darshan Halani | 23010101097 | A7</b></center>    \n",
    "   \n",
    "<pre>"
   ]
  },
  {
   "cell_type": "markdown",
   "metadata": {},
   "source": [
    "# if..else.."
   ]
  },
  {
   "cell_type": "markdown",
   "metadata": {},
   "source": [
    "### 01) WAP to check whether the given number is positive or negative."
   ]
  },
  {
   "cell_type": "code",
   "execution_count": 3,
   "metadata": {},
   "outputs": [
    {
     "name": "stdin",
     "output_type": "stream",
     "text": [
      "Enter the Number :  -18\n"
     ]
    },
    {
     "name": "stdout",
     "output_type": "stream",
     "text": [
      "-18 is Negative Number.\n"
     ]
    }
   ],
   "source": [
    "n=int(input(\"Enter the Number : \"))\n",
    "if n>0:\n",
    "    print(n,\"is Positive Number.\")\n",
    "else:\n",
    "    print(n,\"is Negative Number.\")"
   ]
  },
  {
   "cell_type": "markdown",
   "metadata": {},
   "source": [
    "### 02) WAP to check whether the given number is odd or even."
   ]
  },
  {
   "cell_type": "code",
   "execution_count": 9,
   "metadata": {},
   "outputs": [
    {
     "name": "stdin",
     "output_type": "stream",
     "text": [
      "Enter the Number :  2\n"
     ]
    },
    {
     "name": "stdout",
     "output_type": "stream",
     "text": [
      "2 is Even Number.\n"
     ]
    }
   ],
   "source": [
    "n=int(input(\"Enter the Number : \"))\n",
    "if n%2==0 : \n",
    "    print(n,\"is Even Number.\")\n",
    "else : \n",
    "    print(n,\"is Odd Number.\")    "
   ]
  },
  {
   "cell_type": "markdown",
   "metadata": {},
   "source": [
    "### 03) WAP to find out largest number from given two numbers using simple if and ternary operator."
   ]
  },
  {
   "cell_type": "code",
   "execution_count": 10,
   "metadata": {},
   "outputs": [
    {
     "name": "stdin",
     "output_type": "stream",
     "text": [
      "Enter First Number : 42\n",
      "Enter Second Number : 23\n"
     ]
    },
    {
     "name": "stdout",
     "output_type": "stream",
     "text": [
      "42 is Largest Number.\n",
      "42 is Largest Number\n"
     ]
    }
   ],
   "source": [
    "# Using Simple if-else :\n",
    "\n",
    "a=int(input(\"Enter First Number :\"))\n",
    "b=int(input(\"Enter Second Number :\"))\n",
    "\n",
    "if a>b :\n",
    "    print(a,\"is Largest Number.\")\n",
    "else :\n",
    "    print(b,\"is Largest Number.\")\n",
    "\n",
    "# Using Ternary Operator :\n",
    "\n",
    "print(a,\"is Largest Number.\") if a>b else print(b,\"is Largest Number.\")"
   ]
  },
  {
   "cell_type": "markdown",
   "metadata": {},
   "source": [
    "### 04) WAP to find out largest number from given three numbers."
   ]
  },
  {
   "cell_type": "code",
   "execution_count": 11,
   "metadata": {},
   "outputs": [
    {
     "name": "stdin",
     "output_type": "stream",
     "text": [
      "Enter First Number :  10\n",
      "Enter Second Number :  20\n",
      "Enter Third Number :  30\n"
     ]
    },
    {
     "name": "stdout",
     "output_type": "stream",
     "text": [
      "Largest Number is  30\n"
     ]
    }
   ],
   "source": [
    "a=int(input(\"Enter First Number : \"))\n",
    "b=int(input(\"Enter Second Number : \"))\n",
    "c=int(input(\"Enter Third Number : \"))\n",
    "\n",
    "\n",
    "if a>b:\n",
    "    if a>c:\n",
    "        max=a\n",
    "    else:\n",
    "        max=c\n",
    "else :\n",
    "    if b>c:\n",
    "        max=b\n",
    "    else:\n",
    "        max=c\n",
    "print(\"Largest Number is \",max)        \n",
    "        "
   ]
  },
  {
   "cell_type": "markdown",
   "metadata": {},
   "source": [
    "### 05) WAP to check whether the given year is leap year or not.\n",
    "[If a year can be divisible by 4 but not divisible by 100 then it is leap year but if it is divisible by 400 then it is leap year]"
   ]
  },
  {
   "cell_type": "code",
   "execution_count": 10,
   "metadata": {},
   "outputs": [
    {
     "name": "stdin",
     "output_type": "stream",
     "text": [
      "Enter the Year to check Leap year or not :  2024\n"
     ]
    },
    {
     "name": "stdout",
     "output_type": "stream",
     "text": [
      "2024 is a Leap Year\n"
     ]
    }
   ],
   "source": [
    "year = int(input(\"Enter the Year to check Leap year or not : \"))\n",
    "if year % 4 == 0:\n",
    "    if year % 100 == 0:\n",
    "        if year % 400 == 0:\n",
    "            print(f\"{year} is a Leap Year\")\n",
    "        else:\n",
    "            print(f\"{year} is not a Leap Year\")\n",
    "    else:\n",
    "        print(f\"{year} is a Leap Year\")\n",
    "else:\n",
    "    print(f\"{year} is not a Leap Year\")\n"
   ]
  },
  {
   "cell_type": "markdown",
   "metadata": {},
   "source": [
    "### 06) WAP in python to display the name of the day according to the number given by the user."
   ]
  },
  {
   "cell_type": "code",
   "execution_count": 13,
   "metadata": {},
   "outputs": [
    {
     "name": "stdin",
     "output_type": "stream",
     "text": [
      "Enter the Number of Day :  6\n"
     ]
    },
    {
     "name": "stdout",
     "output_type": "stream",
     "text": [
      "The Day of Week =  Saturday\n",
      "Saturday\n"
     ]
    }
   ],
   "source": [
    "daysOfWeek=['Monday','Tuesday','Wednesday','Thursday','Friday','Saturday','Sunday']\n",
    "day=int(input(\"Enter the Number of Day : \"))\n",
    "print(\"The Day of Week = \",daysOfWeek[(day%7)-1])\n",
    "\n",
    "# Or..\n",
    "\n",
    "match day:\n",
    "    case 1:\n",
    "        print(\"Monday\")\n",
    "    case 2:\n",
    "        print(\"Tuesday\")\n",
    "    case 3:\n",
    "        print(\"Wednesday\")\n",
    "    case 4:\n",
    "        print(\"Thursday\")\n",
    "    case 5:\n",
    "        print(\"Friday\")\n",
    "    case 6:\n",
    "        print(\"Saturday\")\n",
    "    case 7:\n",
    "        print(\"Sunday\")\n",
    "    case _:\n",
    "        print(\"Enter Valid Number(1-7)\")"
   ]
  },
  {
   "cell_type": "markdown",
   "metadata": {},
   "source": [
    "### 07) WAP to implement simple calculator which performs (add,sub,mul,div) of two no. based on user input."
   ]
  },
  {
   "cell_type": "code",
   "execution_count": 29,
   "metadata": {},
   "outputs": [
    {
     "name": "stdin",
     "output_type": "stream",
     "text": [
      "Enter First Number :  20\n",
      "Enter Second Number :  30\n",
      "Enter the Opearation (+,-,*,/) :  *\n"
     ]
    },
    {
     "name": "stdout",
     "output_type": "stream",
     "text": [
      "Multiplication :  600\n"
     ]
    }
   ],
   "source": [
    "n1=int(input(\"Enter First Number : \"))\n",
    "n2=int(input(\"Enter Second Number : \"))\n",
    "\n",
    "operation=input(\"Enter the Opearation (+,-,*,/) : \")\n",
    "\n",
    "match operation:\n",
    "    case \"+\":\n",
    "        add=n1+n2\n",
    "        print('Addition : ',add)\n",
    "    case \"-\":\n",
    "        sub=n1-n2\n",
    "        print('Subtraction : ',sub)\n",
    "    case \"*\":\n",
    "        mul=n1*n2\n",
    "        print('Multiplication : ',mul)\n",
    "    case \"/\":\n",
    "        if n2!=0:\n",
    "            div=n1/n2\n",
    "            print('Division : ',div)\n",
    "        else:\n",
    "            print('Division by zero is not allowed')\n",
    "    case _:\n",
    "        print(\"Invalid operation.Please enter one of +, -, *, /\")"
   ]
  },
  {
   "cell_type": "markdown",
   "metadata": {},
   "source": [
    "### 08) WAP to read marks of five subjects. Calculate percentage and print class accordingly. \n",
    "Fail below 35 </br>\n",
    "Pass Class between 35 to 45 </br>\n",
    "Second Class</br>\n",
    "between 45 to 60</br>\n",
    "First Class between 60 to 70</br> \n",
    "Distinction if more than 70"
   ]
  },
  {
   "cell_type": "code",
   "execution_count": 15,
   "metadata": {},
   "outputs": [
    {
     "name": "stdout",
     "output_type": "stream",
     "text": [
      "Please Enter Marks out of 100\n"
     ]
    },
    {
     "name": "stdin",
     "output_type": "stream",
     "text": [
      "Enter Marks of Subject 1 : 82\n",
      "Enter Marks of Subject 2 : 92\n",
      "Enter Marks of Subject 3 : 78\n",
      "Enter Marks of Subject 4 : 69\n",
      "Enter Marks of Subject 5 : 56\n"
     ]
    },
    {
     "name": "stdout",
     "output_type": "stream",
     "text": [
      "Average Marks - 75.4 %\n",
      "Distinction\n"
     ]
    }
   ],
   "source": [
    "print(\"Please Enter Marks out of 100\")\n",
    "m1=int(input(\"Enter Marks of Subject 1 :\"))\n",
    "m2=int(input(\"Enter Marks of Subject 2 :\"))\n",
    "m3=int(input(\"Enter Marks of Subject 3 :\"))\n",
    "m4=int(input(\"Enter Marks of Subject 4 :\"))\n",
    "m5=int(input(\"Enter Marks of Subject 5 :\"))\n",
    "\n",
    "avg=(m1+m2+m3+m4+m5)/5\n",
    "print(f\"Average - {avg} %\")\n",
    "\n",
    "if avg>70:\n",
    "    print(\"Distinction\")\n",
    "elif avg>60 :\n",
    "    print(\"First Class\")\n",
    "elif avg>45:    \n",
    "    print(\"Second Class\")\n",
    "elif avg>=35:\n",
    "    print(\"Pass Class\")\n",
    "else:\n",
    "    print(\"Fail..!!\")"
   ]
  },
  {
   "cell_type": "markdown",
   "metadata": {},
   "source": [
    "### 09) Three sides of a triangle are entered through the keyboard, WAP to check whether the triangle is isosceles, equilateral, scalene or right-angled triangle."
   ]
  },
  {
   "cell_type": "code",
   "execution_count": 24,
   "metadata": {},
   "outputs": [
    {
     "name": "stdin",
     "output_type": "stream",
     "text": [
      "Enter Side 1 of the Triangle 3\n",
      "Enter Side 2 of the Triangle 4\n",
      "Enter Side 3 of the Triangle 5\n"
     ]
    },
    {
     "name": "stdout",
     "output_type": "stream",
     "text": [
      "Scalene Triangle\n",
      "It is also a Right-Angled Triangle\n"
     ]
    }
   ],
   "source": [
    "s1=int(input(\"Enter Side 1 of the Triangle\"))\n",
    "s2=int(input(\"Enter Side 2 of the Triangle\"))\n",
    "s3=int(input(\"Enter Side 3 of the Triangle\"))\n",
    "\n",
    "# The sum of the lengths of any two sides of a triangle must be greater than the length of the third side.\n",
    "if s1+s2>s3 and s1+s3>s2 and s2+s3>s1:\n",
    "    if s1==s2==s3:\n",
    "        print('Equilateral Triangle')\n",
    "    elif s1==s2 or s1==s3 or s2==s3:\n",
    "        print('Isosceles Triangle')\n",
    "    else:\n",
    "        print('Scalene Triangle')\n",
    "\n",
    "    # To Check it's a right-angled triangle or not.\n",
    "    if (s1**2+s2**2==s3**2 or s1**2+s3**2==s2**2 or s2**2+s3**2==s1*2):\n",
    "         print(\"It is also a Right-Angled Triangle\")\n",
    "else:\n",
    "     print(\"The given sides do not form a valid triangle.\")"
   ]
  },
  {
   "cell_type": "markdown",
   "metadata": {},
   "source": [
    "### 10) WAP to find the second largest number among three user input numbers."
   ]
  },
  {
   "cell_type": "code",
   "execution_count": null,
   "metadata": {},
   "outputs": [],
   "source": [
    "a=int(input(\"Enter First Number : \"))\n",
    "b=int(input(\"Enter Second Number : \"))\n",
    "c=int(input(\"Enter Third Number : \"))\n",
    "\n",
    "\n",
    "if a>b:\n",
    "    if a>c:\n",
    "        max=a\n",
    "    else:\n",
    "        max=c\n",
    "else :\n",
    "    if b>c:\n",
    "        max=b\n",
    "    else:\n",
    "        max=c\n",
    "print(\"Largest Number is \",max)  "
   ]
  },
  {
   "cell_type": "markdown",
   "metadata": {},
   "source": [
    "### 11) WAP to calculate electricity bill based on following criteria. Which takes the unit from the user.\n",
    "a. First 1 to 50 units – Rs. 2.60/unit</br>\n",
    "b. Next 50 to 100 units – Rs. 3.25/unit</br>\n",
    "c. Next 100 to 200 units – Rs. 5.26/unit</br>\n",
    "d. above 200 units – Rs. 8.45/unit"
   ]
  },
  {
   "cell_type": "code",
   "execution_count": 22,
   "metadata": {},
   "outputs": [
    {
     "name": "stdin",
     "output_type": "stream",
     "text": [
      "Enter the number of Units Consumed:  210\n"
     ]
    },
    {
     "name": "stdout",
     "output_type": "stream",
     "text": [
      "Your electricity bill is Rs. 903.0\n"
     ]
    }
   ],
   "source": [
    "units=float(input(\"Enter the number of Units Consumed: \"))\n",
    "bill=0.0\n",
    "\n",
    "if units<=50:\n",
    "    bill=units*2.60\n",
    "elif units<=100:\n",
    "    bill=(50*2.60)+((units-50)*3.25)\n",
    "elif units<=200:\n",
    "    bill=(50*2.60)+(50*3.25)+((units-100)*5.26)\n",
    "else:\n",
    "    bill=(50*2.60)+(50*3.25)+(100*5.26)+((units-200)*8.45)\n",
    "\n",
    "print(\"Your electricity bill is Rs.\",bill)"
   ]
  }
 ],
 "metadata": {
  "kernelspec": {
   "display_name": "Python 3 (ipykernel)",
   "language": "python",
   "name": "python3"
  },
  "language_info": {
   "codemirror_mode": {
    "name": "ipython",
    "version": 3
   },
   "file_extension": ".py",
   "mimetype": "text/x-python",
   "name": "python",
   "nbconvert_exporter": "python",
   "pygments_lexer": "ipython3",
   "version": "3.13.0"
  }
 },
 "nbformat": 4,
 "nbformat_minor": 4
}
