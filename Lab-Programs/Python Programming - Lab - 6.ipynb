{
 "cells": [
  {
   "attachments": {},
   "cell_type": "markdown",
   "metadata": {},
   "source": [
    "<a href='https://www.darshan.ac.in/'> <img src='https://www.darshan.ac.in/Content/media/DU_Logo.svg' width=\"250\" height=\"300\"/></a>\n",
    "<pre>\n",
    "<center><b><h1>Python Programming - 2301CS404</b></center>\n",
    "<center><b><h1>Lab - 6</b></center>\n",
    "<center><b><h1>Darshan Halani | 23010101097 | A7</b></center>    \n",
    "<pre>"
   ]
  },
  {
   "cell_type": "markdown",
   "metadata": {},
   "source": [
    "# Tuple"
   ]
  },
  {
   "cell_type": "markdown",
   "metadata": {},
   "source": [
    "### 01) WAP to find sum of tuple elements."
   ]
  },
  {
   "cell_type": "code",
   "execution_count": 9,
   "metadata": {},
   "outputs": [
    {
     "name": "stdout",
     "output_type": "stream",
     "text": [
      "Sum of the Tuple Elements: 15\n"
     ]
    }
   ],
   "source": [
    "t=(1,2,3,4,5)\n",
    "print('Sum of the Tuple Elements:',sum(t))"
   ]
  },
  {
   "cell_type": "markdown",
   "metadata": {},
   "source": [
    "### 02) WAP to find Maximum and Minimum K elements in a given tuple."
   ]
  },
  {
   "cell_type": "code",
   "execution_count": 22,
   "metadata": {},
   "outputs": [
    {
     "name": "stdin",
     "output_type": "stream",
     "text": [
      "Enter Value of k: 3\n"
     ]
    },
    {
     "name": "stdout",
     "output_type": "stream",
     "text": [
      "Minimum 3 Elements: (10, 20, 40)\n",
      "Maximum 3 Elements: (90, 80, 50)\n"
     ]
    }
   ],
   "source": [
    "t=(10,20,50,10,80,90,40,20)\n",
    "k=int(input('Enter Value of k:'))\n",
    "temp=[]\n",
    "for i in t:\n",
    "    if temp.count(i)==0:\n",
    "        temp.append(i)\n",
    "temp=tuple(temp)\n",
    "\n",
    "print('Minimum',k,'Elements:',tuple(sorted(temp)[:k]))\n",
    "print('Maximum',k,'Elements:',tuple(sorted(temp,reverse=True)[:k]))"
   ]
  },
  {
   "cell_type": "markdown",
   "metadata": {},
   "source": [
    "## Or"
   ]
  },
  {
   "cell_type": "code",
   "execution_count": 21,
   "metadata": {},
   "outputs": [
    {
     "name": "stdout",
     "output_type": "stream",
     "text": [
      "Minmum 3 Elements: (2, 7, 19)\n",
      "Maximam 3 Elements: (43, 88, 100)\n"
     ]
    }
   ],
   "source": [
    "t1=(26,43,88,19,7,30,2,100)\n",
    "temp=list(t1)\n",
    "temp.sort()\n",
    "print('Minmum',k,'Elements:',tuple(temp[:k]))\n",
    "print('Maximam',k,'Elements:',tuple(temp[-k:]))"
   ]
  },
  {
   "cell_type": "markdown",
   "metadata": {},
   "source": [
    "### 03) WAP to find tuples which have all elements divisible by K from a list of tuples."
   ]
  },
  {
   "cell_type": "code",
   "execution_count": 31,
   "metadata": {},
   "outputs": [
    {
     "name": "stdin",
     "output_type": "stream",
     "text": [
      "Enter the value of k: 5\n"
     ]
    },
    {
     "name": "stdout",
     "output_type": "stream",
     "text": [
      "((10, 20, 30), (5, 10, 15))\n"
     ]
    }
   ],
   "source": [
    "l=[(2,4,6),(3,6,9),(10,20,30),(5,10,15)]\n",
    "temp=[]\n",
    "k=int(input('Enter the value of k:'))\n",
    "for i in l:\n",
    "    isValid=True\n",
    "    for j in i:\n",
    "        if j%k!=0:\n",
    "            isValid=False\n",
    "    if isValid:\n",
    "        temp.append(i)\n",
    "print(tuple(temp)) "
   ]
  },
  {
   "cell_type": "markdown",
   "metadata": {},
   "source": [
    "### 04) WAP to create a list of tuples from given list having number and its cube in each tuple."
   ]
  },
  {
   "cell_type": "code",
   "execution_count": 33,
   "metadata": {},
   "outputs": [
    {
     "name": "stdout",
     "output_type": "stream",
     "text": [
      "[(1, 1), (2, 8), (3, 27), (4, 64), (5, 125)]\n"
     ]
    }
   ],
   "source": [
    "l=[1,2,3,4,5]\n",
    "t=[(i,i**3) for i in l]\n",
    "print(t)"
   ]
  },
  {
   "cell_type": "markdown",
   "metadata": {},
   "source": [
    "### 05) WAP to find tuples with all positive elements from the given list of tuples."
   ]
  },
  {
   "cell_type": "code",
   "execution_count": 47,
   "metadata": {},
   "outputs": [
    {
     "name": "stdout",
     "output_type": "stream",
     "text": [
      "[(1, 2, 3), (7, 8, 9)]\n"
     ]
    }
   ],
   "source": [
    "l=[(1,2,3),(-1,-2,-3),(-2,3,4),(7,8,9)]\n",
    "temp=[]\n",
    "for i in l:\n",
    "    isValid=True\n",
    "    for j in i:\n",
    "        if j<0:\n",
    "            isValid=False\n",
    "    if isValid==True:\n",
    "        temp.append(i)\n",
    "print(temp)"
   ]
  },
  {
   "cell_type": "markdown",
   "metadata": {},
   "source": [
    "### 06) WAP to add tuple to list and vice – versa."
   ]
  },
  {
   "cell_type": "markdown",
   "metadata": {},
   "source": [
    "## Add tuple to list"
   ]
  },
  {
   "cell_type": "code",
   "execution_count": 34,
   "metadata": {},
   "outputs": [
    {
     "name": "stdout",
     "output_type": "stream",
     "text": [
      "[1, 2, 3, (4, 5, 6)]\n"
     ]
    }
   ],
   "source": [
    "l=[1,2,3]\n",
    "t=(4,5,6)\n",
    "l.append(t)\n",
    "print(l)"
   ]
  },
  {
   "cell_type": "markdown",
   "metadata": {},
   "source": [
    "## Add list to tuple"
   ]
  },
  {
   "cell_type": "code",
   "execution_count": 42,
   "metadata": {},
   "outputs": [
    {
     "name": "stdout",
     "output_type": "stream",
     "text": [
      "(1, 2, 3, 4, 5, 6)\n"
     ]
    }
   ],
   "source": [
    "t=(1,2,3)\n",
    "l=[4,5,6]\n",
    "t=t+tuple(l)\n",
    "print(t)"
   ]
  },
  {
   "cell_type": "markdown",
   "metadata": {},
   "source": [
    "### 07) WAP to remove tuples of length K."
   ]
  },
  {
   "cell_type": "code",
   "execution_count": 51,
   "metadata": {},
   "outputs": [
    {
     "name": "stdin",
     "output_type": "stream",
     "text": [
      "Enter the value of k: 6\n"
     ]
    },
    {
     "name": "stdout",
     "output_type": "stream",
     "text": [
      "No tuples of length  6\n"
     ]
    }
   ],
   "source": [
    "tuple_list=[tuple([1]),(1,2),(1,2,3),(4,5,6),(4,5,6,7),(7,8,9,10,11)]\n",
    "k=int(input(\"Enter the value of k:\"))\n",
    "temp=[]\n",
    "for i in tuple_list:\n",
    "    if len(i)==k:\n",
    "        temp.append(i)\n",
    "\n",
    "if not temp:\n",
    "    print('No tuples of length ',k)\n",
    "else:\n",
    "    tuple_list=[i for i in tuple_list if i not in temp]\n",
    "    print('Tuples of length', k, ':', temp)\n",
    "    print('Updated tuple_list:', tuple_list)"
   ]
  },
  {
   "cell_type": "markdown",
   "metadata": {},
   "source": [
    "### 08) WAP to remove duplicates from tuple."
   ]
  },
  {
   "cell_type": "code",
   "execution_count": 52,
   "metadata": {},
   "outputs": [
    {
     "name": "stdout",
     "output_type": "stream",
     "text": [
      "(1, 2, 3, 4, 5, 6, 7)\n"
     ]
    }
   ],
   "source": [
    "t=(1,2,3,1,4,3,5,6,7,5)\n",
    "l=list(set(t))\n",
    "t=tuple(l)\n",
    "print(t)"
   ]
  },
  {
   "cell_type": "markdown",
   "metadata": {},
   "source": [
    "## Or"
   ]
  },
  {
   "cell_type": "code",
   "execution_count": 53,
   "metadata": {},
   "outputs": [
    {
     "name": "stdout",
     "output_type": "stream",
     "text": [
      "(1, 2, 3, 4, 5, 6, 7)\n"
     ]
    }
   ],
   "source": [
    "t=(1,2,3,1,4,3,5,6,7,5)\n",
    "temp=[]\n",
    "for i in t:\n",
    "    if temp.count(i)==0:\n",
    "        temp.append(i)\n",
    "print(tuple(temp))"
   ]
  },
  {
   "cell_type": "markdown",
   "metadata": {},
   "source": [
    "### 09) WAP to multiply adjacent elements of a tuple and print that resultant tuple."
   ]
  },
  {
   "cell_type": "code",
   "execution_count": 65,
   "metadata": {},
   "outputs": [
    {
     "data": {
      "text/plain": [
       "(2, 6, 12, 20)"
      ]
     },
     "execution_count": 65,
     "metadata": {},
     "output_type": "execute_result"
    }
   ],
   "source": [
    "t=(1,2,3,4,5)\n",
    "t=tuple(t[i]*t[i+1] for i in range(len(t)-1))\n",
    "t"
   ]
  },
  {
   "cell_type": "markdown",
   "metadata": {},
   "source": [
    "### 10) WAP to test if the given tuple is distinct or not."
   ]
  },
  {
   "cell_type": "code",
   "execution_count": 55,
   "metadata": {},
   "outputs": [
    {
     "name": "stdout",
     "output_type": "stream",
     "text": [
      "The tuple contains duplicate elements.\n"
     ]
    }
   ],
   "source": [
    "t = (1, 2, 3, 4, 5,1)\n",
    "\n",
    "if len(t) == len(set(t)):\n",
    "    print(\"The tuple contains all distinct elements.\")\n",
    "else:\n",
    "    print(\"The tuple contains duplicate elements.\")"
   ]
  },
  {
   "cell_type": "markdown",
   "metadata": {},
   "source": [
    "## Or"
   ]
  },
  {
   "cell_type": "code",
   "execution_count": 58,
   "metadata": {},
   "outputs": [
    {
     "name": "stdout",
     "output_type": "stream",
     "text": [
      "The tuple contains all distinct elements.\n"
     ]
    }
   ],
   "source": [
    "t=(1,2,3,4,5,6)\n",
    "isUnique=True\n",
    "for i in t:\n",
    "    if t.count(i)!=1:\n",
    "        isUnique=False\n",
    "if isUnique:\n",
    "    print(\"The tuple contains all distinct elements.\")\n",
    "else:\n",
    "    print(\"The tuple contains duplicate elements.\")"
   ]
  }
 ],
 "metadata": {
  "kernelspec": {
   "display_name": "Python 3 (ipykernel)",
   "language": "python",
   "name": "python3"
  },
  "language_info": {
   "codemirror_mode": {
    "name": "ipython",
    "version": 3
   },
   "file_extension": ".py",
   "mimetype": "text/x-python",
   "name": "python",
   "nbconvert_exporter": "python",
   "pygments_lexer": "ipython3",
   "version": "3.13.0"
  }
 },
 "nbformat": 4,
 "nbformat_minor": 4
}
