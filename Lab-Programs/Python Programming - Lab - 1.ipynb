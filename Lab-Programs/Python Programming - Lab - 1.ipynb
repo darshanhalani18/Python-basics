{
 "cells": [
  {
   "cell_type": "markdown",
   "metadata": {},
   "source": [
    "<a href='https://www.darshan.ac.in/'> <img src='https://www.darshan.ac.in/Content/media/DU_Logo.svg' width=\"250\" height=\"10\"/></a>\n",
    "<pre>\n",
    "<center><b><h1>Python Programming - 2301CS404</b></center>\n",
    "<center><b><h1>Lab - 1</b></center>\n",
    "<center><b><h1>Darshan Halani | 23010101097 | A7</b></center>\n",
    "<pre>"
   ]
  },
  {
   "cell_type": "markdown",
   "metadata": {},
   "source": [
    "### 01) WAP to print “Hello World”"
   ]
  },
  {
   "cell_type": "code",
   "execution_count": 2,
   "metadata": {},
   "outputs": [
    {
     "name": "stdout",
     "output_type": "stream",
     "text": [
      "Hello World\n"
     ]
    }
   ],
   "source": [
    "print(\"Hello World\")"
   ]
  },
  {
   "cell_type": "markdown",
   "metadata": {},
   "source": [
    "### 02) WAP to print addition of two numbers with and without using input()."
   ]
  },
  {
   "cell_type": "code",
   "execution_count": null,
   "metadata": {},
   "outputs": [
    {
     "name": "stdout",
     "output_type": "stream",
     "text": [
      "Sum of Two Numbers =  15\n"
     ]
    }
   ],
   "source": [
    "# Without Using input():\n",
    "\n",
    "a,b=5,10\n",
    "sum=a+b\n",
    "print(\"Sum of Two Numbers = \",sum)\n",
    "\n",
    "# With Using input():\n",
    "    \n",
    "a=input(\"Enter First Number : \")\n",
    "b=input(\"Enter Second Number\")\n",
    "sum=int(a)+int(b)\n",
    "print(\"Sum of \" + a + \" and \" + b + \" = \" + str(sum))"
   ]
  },
  {
   "cell_type": "markdown",
   "metadata": {},
   "source": [
    "### 03) WAP to check the type of the variable."
   ]
  },
  {
   "cell_type": "code",
   "execution_count": 13,
   "metadata": {},
   "outputs": [
    {
     "name": "stdout",
     "output_type": "stream",
     "text": [
      "<class 'int'>\n",
      "<class 'float'>\n",
      "<class 'str'>\n",
      "<class 'bool'>\n"
     ]
    }
   ],
   "source": [
    "var1=10\n",
    "print(type(var1))  \n",
    "\n",
    "var2=10.20\n",
    "print(type(var2))\n",
    "\n",
    "var3=\"Hello\"\n",
    "print(type(var3))\n",
    "\n",
    "var4=True\n",
    "print(type(var4))"
   ]
  },
  {
   "cell_type": "markdown",
   "metadata": {},
   "source": [
    "### 04) WAP to calculate simple interest."
   ]
  },
  {
   "cell_type": "code",
   "execution_count": 16,
   "metadata": {},
   "outputs": [
    {
     "name": "stdin",
     "output_type": "stream",
     "text": [
      "Enter Principal Amount :  7500\n",
      "Enter Interest Rate in % per annum :  10\n",
      "Enter Time in years :  5\n"
     ]
    },
    {
     "name": "stdout",
     "output_type": "stream",
     "text": [
      "Simple Interest is :  3750.0\n"
     ]
    }
   ],
   "source": [
    "P=int(input(\"Enter Principal Amount : \"))\n",
    "R=float(input(\"Enter Interest Rate in % per annum : \"))\n",
    "T=int(input(\"Enter Time in years : \"))\n",
    "\n",
    "SI=P*R*T/100\n",
    "print(\"Simple Interest is : \",SI)"
   ]
  },
  {
   "cell_type": "markdown",
   "metadata": {},
   "source": [
    "### 05) WAP to calculate area and perimeter of a circle."
   ]
  },
  {
   "cell_type": "code",
   "execution_count": 54,
   "metadata": {},
   "outputs": [
    {
     "name": "stdin",
     "output_type": "stream",
     "text": [
      "Enter Radius of Circle :  5\n"
     ]
    },
    {
     "name": "stdout",
     "output_type": "stream",
     "text": [
      "Area of Circle :  78.5\n",
      "Perimeter of Circle :  31.4\n"
     ]
    }
   ],
   "source": [
    "r=float(input(\"Enter Radius of Circle : \"))\n",
    "area=3.14*(r**2)\n",
    "print(\"Area of Circle : \",area)\n",
    "perimeter=2*3.14*r\n",
    "print(\"Perimeter of Circle : \",round(perimeter,2)) "
   ]
  },
  {
   "cell_type": "markdown",
   "metadata": {},
   "source": [
    "### 06) WAP to calculate area of a triangle."
   ]
  },
  {
   "cell_type": "code",
   "execution_count": 23,
   "metadata": {},
   "outputs": [
    {
     "name": "stdin",
     "output_type": "stream",
     "text": [
      "Enter the height of the Triangle :  12.5\n",
      "Enter the base of the Triangle :  5.5\n"
     ]
    },
    {
     "name": "stdout",
     "output_type": "stream",
     "text": [
      "Area of Triangle: 34.375\n"
     ]
    }
   ],
   "source": [
    "height=float(input(\"Enter the height of the Triangle : \"))\n",
    "base=float(input(\"Enter the base of the Triangle : \"))\n",
    "\n",
    "area=(1/2)*height*base\n",
    "print(\"Area of Triangle:\",area)\n"
   ]
  },
  {
   "cell_type": "markdown",
   "metadata": {},
   "source": [
    "### 07) WAP to compute quotient and remainder."
   ]
  },
  {
   "cell_type": "code",
   "execution_count": 27,
   "metadata": {},
   "outputs": [
    {
     "name": "stdin",
     "output_type": "stream",
     "text": [
      "Enter Dividend: 26\n",
      "Enter Divisor: 3\n"
     ]
    },
    {
     "name": "stdout",
     "output_type": "stream",
     "text": [
      "Quotient is 8 and Remainder is 2.\n"
     ]
    }
   ],
   "source": [
    "a=int(input(\"Enter Dividend:\"))\n",
    "b=int(input(\"Enter Divisor:\"))\n",
    "quotient=a//b\n",
    "remainder=a%b\n",
    "\n",
    "print(f\"Quotient is {quotient} and Remainder is {remainder}.\")"
   ]
  },
  {
   "cell_type": "markdown",
   "metadata": {},
   "source": [
    "### 08) WAP to convert degree into Fahrenheit and vice versa."
   ]
  },
  {
   "cell_type": "code",
   "execution_count": 36,
   "metadata": {},
   "outputs": [
    {
     "name": "stdin",
     "output_type": "stream",
     "text": [
      "Enter Temperature in degree Celsius (°C): 0\n",
      "Enter Temperature in degree Fahrenheit (°F): 32\n"
     ]
    },
    {
     "name": "stdout",
     "output_type": "stream",
     "text": [
      "0 °C = 32.0 °F\n",
      "32 °F = 0.0 °C\n"
     ]
    }
   ],
   "source": [
    "cel=int(input(\"Enter Temperature in degree Celsius (°C):\"))\n",
    "fahren=int(input(\"Enter Temperature in degree Fahrenheit (°F):\"))\n",
    "fahrenheit=(celsius*(9/5))+32\n",
    "celsius=(fahren-32)*(5/9)\n",
    "print(f\"{cel} °C = {fahrenheit} °F\")\n",
    "print(f\"{fahren} °F = {celsius} °C\")\n"
   ]
  },
  {
   "cell_type": "markdown",
   "metadata": {},
   "source": [
    "### 09) WAP to find the distance between two points in 2-D space."
   ]
  },
  {
   "cell_type": "code",
   "execution_count": 74,
   "metadata": {},
   "outputs": [
    {
     "name": "stdin",
     "output_type": "stream",
     "text": [
      "Enter x1 : 3\n",
      "Enter x2 : 2\n",
      "Enter y1 : 4\n",
      "Enter y2 : 2\n"
     ]
    },
    {
     "name": "stdout",
     "output_type": "stream",
     "text": [
      "Distance between (3, 2) and (4, 2) is 2.24\n"
     ]
    }
   ],
   "source": [
    "x1=int(input(\"Enter x1 :\"))\n",
    "x2=int(input(\"Enter x2 :\"))            \n",
    "y1=int(input(\"Enter y1 :\"))\n",
    "y2=int(input(\"Enter y2 :\"))\n",
    "\n",
    "distance=((((x2-x1)**2)+((y2-y1)**2))**(1/2))\n",
    "print(f\"Distance between {x1,x2} and {y1,y2} is {round(distance,2)}\")"
   ]
  },
  {
   "cell_type": "markdown",
   "metadata": {},
   "source": [
    "### 10) WAP to print sum of n natural numbers."
   ]
  },
  {
   "cell_type": "code",
   "execution_count": 42,
   "metadata": {},
   "outputs": [
    {
     "name": "stdin",
     "output_type": "stream",
     "text": [
      "Enter n up to which you want to sum: 5\n"
     ]
    },
    {
     "name": "stdout",
     "output_type": "stream",
     "text": [
      "The Sum of the first 5 numbers is 15.0\n"
     ]
    }
   ],
   "source": [
    "n=int(input(\"Enter n up to which you want to sum:\"))\n",
    "sum=(n*(n+1))/2\n",
    "print(f\"The Sum of the first {n} numbers is {sum}\")"
   ]
  },
  {
   "cell_type": "markdown",
   "metadata": {},
   "source": [
    "### 11) WAP to print sum of square of n natural numbers."
   ]
  },
  {
   "cell_type": "code",
   "execution_count": 43,
   "metadata": {},
   "outputs": [
    {
     "name": "stdin",
     "output_type": "stream",
     "text": [
      "Enter n up to which you want to sum of the squares: 5\n"
     ]
    },
    {
     "name": "stdout",
     "output_type": "stream",
     "text": [
      "The Sum of the Squares of the first 5 numbers is 55.0\n"
     ]
    }
   ],
   "source": [
    "n=int(input(\"Enter n up to which you want to sum of the squares:\"))\n",
    "sum=(n*(n+1)*(2*n+1))/6\n",
    "print(f\"The Sum of the Squares of the first {n} numbers is {sum}\")"
   ]
  },
  {
   "cell_type": "markdown",
   "metadata": {},
   "source": [
    "### 12) WAP to concate the first and last name of the student."
   ]
  },
  {
   "cell_type": "code",
   "execution_count": 33,
   "metadata": {},
   "outputs": [
    {
     "name": "stdin",
     "output_type": "stream",
     "text": [
      "Enter First Name Darshan\n",
      "Enter Last Name Halani\n"
     ]
    },
    {
     "name": "stdout",
     "output_type": "stream",
     "text": [
      "Darshan Halani\n",
      "Darshan Halani\n"
     ]
    }
   ],
   "source": [
    "fname=input(\"Enter First Name\")\n",
    "lname=input(\"Enter Last Name\")\n",
    "print(fname+\" \"+lname)\n",
    "# or\n",
    "print(fname,lname)"
   ]
  },
  {
   "cell_type": "markdown",
   "metadata": {},
   "source": [
    "### 13) WAP to swap two numbers."
   ]
  },
  {
   "cell_type": "code",
   "execution_count": 1,
   "metadata": {},
   "outputs": [
    {
     "name": "stdin",
     "output_type": "stream",
     "text": [
      "Enter the value of a =  10\n",
      "Enter the value of b =  20\n"
     ]
    },
    {
     "name": "stdout",
     "output_type": "stream",
     "text": [
      "The initial value of a : 10\n",
      "The initial value of b : 20\n",
      "\n",
      "The Swapped value of a : 20\n",
      "The Swapped value of b : 10\n"
     ]
    },
    {
     "name": "stdin",
     "output_type": "stream",
     "text": [
      "a =  10\n",
      "b =  20\n"
     ]
    },
    {
     "name": "stdout",
     "output_type": "stream",
     "text": [
      "a =  20\n",
      "b =  10\n"
     ]
    }
   ],
   "source": [
    "a = input(\"Enter the value of a = \")\n",
    "b = input(\"Enter the value of b = \")\n",
    "\n",
    "# Display initial values..\n",
    "print(\"The initial value of a : \"+a)\n",
    "print(\"The initial value of b : \"+b)\n",
    "print()\n",
    "\n",
    "# Swap the values using a temporary variable..\n",
    "temp = a\n",
    "a = b\n",
    "b = temp\n",
    "\n",
    "#  Display Swapped values..\n",
    "print(\"The Swapped value of a :\", a)\n",
    "print(\"The Swapped value of b :\", b)\n",
    "\n",
    "\n",
    "# Another way to swap numbers..\n",
    "\n",
    "a = input(\"a = \")\n",
    "b = input(\"b = \")\n",
    "\n",
    "a, b = b, a\n",
    "\n",
    "print(\"a = \", a)\n",
    "print(\"b = \", b)\n"
   ]
  },
  {
   "cell_type": "markdown",
   "metadata": {},
   "source": [
    "### 14) WAP to get the distance from user into kilometer, and convert it into meter, feet, inches and centimeter."
   ]
  },
  {
   "cell_type": "code",
   "execution_count": 2,
   "metadata": {},
   "outputs": [
    {
     "name": "stdin",
     "output_type": "stream",
     "text": [
      "Enter Distance in kilometer: 5\n"
     ]
    },
    {
     "name": "stdout",
     "output_type": "stream",
     "text": [
      "5 km = 5000 m\n",
      "5 km = 500000 cm\n",
      "5 km = 16400.0 ft\n",
      "5 km = 196800.0 in\n"
     ]
    }
   ],
   "source": [
    "km=int(input(\"Enter Distance in kilometer:\"))\n",
    "print(f\"{km} km = {km*1000} m\")\n",
    "print(f\"{km} km = {km*1000*100} cm\")\n",
    "print(f\"{km} km = {km*1000*3.28} ft\")\n",
    "print(f\"{km} km = {km*1000*3.28*12} in\")\n",
    "\n",
    "\n"
   ]
  },
  {
   "cell_type": "markdown",
   "metadata": {},
   "source": [
    "### 15) WAP to get day, month and year from the user and print the date in the given format: 23-11-2024."
   ]
  },
  {
   "cell_type": "code",
   "execution_count": 73,
   "metadata": {},
   "outputs": [
    {
     "name": "stdin",
     "output_type": "stream",
     "text": [
      "Enter Day: 23\n",
      "Enter Month: 11\n",
      "Enter Year: 2024\n"
     ]
    },
    {
     "name": "stdout",
     "output_type": "stream",
     "text": [
      "23-11-2024\n"
     ]
    }
   ],
   "source": [
    "day=input(\"Enter Day:\")\n",
    "month=input(\"Enter Month:\")\n",
    "year=input(\"Enter Year:\")\n",
    "print(day,month,year,sep='-')\n"
   ]
  },
  {
   "cell_type": "code",
   "execution_count": null,
   "metadata": {},
   "outputs": [],
   "source": []
  }
 ],
 "metadata": {
  "kernelspec": {
   "display_name": "Python 3 (ipykernel)",
   "language": "python",
   "name": "python3"
  },
  "language_info": {
   "codemirror_mode": {
    "name": "ipython",
    "version": 3
   },
   "file_extension": ".py",
   "mimetype": "text/x-python",
   "name": "python",
   "nbconvert_exporter": "python",
   "pygments_lexer": "ipython3",
   "version": "3.13.0"
  },
  "vscode": {
   "interpreter": {
    "hash": "31f2aee4e71d21fbe5cf8b01ff0e069b9275f58929596ceb00d14d90e3e16cd6"
   }
  }
 },
 "nbformat": 4,
 "nbformat_minor": 4
}
